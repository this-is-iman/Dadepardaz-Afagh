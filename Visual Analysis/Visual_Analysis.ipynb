{
  "nbformat": 4,
  "nbformat_minor": 0,
  "metadata": {
    "colab": {
      "provenance": [],
      "collapsed_sections": [
        "-5Rbrd2nDv0i"
      ]
    },
    "kernelspec": {
      "name": "python3",
      "display_name": "Python 3"
    },
    "language_info": {
      "name": "python"
    },
    "accelerator": "GPU",
    "gpuClass": "standard",
    "widgets": {
      "application/vnd.jupyter.widget-state+json": {
        "e77a9e768c8345118ac299f27ba2a876": {
          "model_module": "@jupyter-widgets/controls",
          "model_name": "HBoxModel",
          "model_module_version": "1.5.0",
          "state": {
            "_dom_classes": [],
            "_model_module": "@jupyter-widgets/controls",
            "_model_module_version": "1.5.0",
            "_model_name": "HBoxModel",
            "_view_count": null,
            "_view_module": "@jupyter-widgets/controls",
            "_view_module_version": "1.5.0",
            "_view_name": "HBoxView",
            "box_style": "",
            "children": [
              "IPY_MODEL_7cf33ec171f5488280987c846a4524ac",
              "IPY_MODEL_6eb265382ca64bab88c2e0d4b8b23c81",
              "IPY_MODEL_eda7ac3552fc4fafb1055d8eb19ffae0"
            ],
            "layout": "IPY_MODEL_f158abd3ae37477e80cbdee519831099"
          }
        },
        "7cf33ec171f5488280987c846a4524ac": {
          "model_module": "@jupyter-widgets/controls",
          "model_name": "HTMLModel",
          "model_module_version": "1.5.0",
          "state": {
            "_dom_classes": [],
            "_model_module": "@jupyter-widgets/controls",
            "_model_module_version": "1.5.0",
            "_model_name": "HTMLModel",
            "_view_count": null,
            "_view_module": "@jupyter-widgets/controls",
            "_view_module_version": "1.5.0",
            "_view_name": "HTMLView",
            "description": "",
            "description_tooltip": null,
            "layout": "IPY_MODEL_7fce68fb3e8f47658416e8f15d9f09c7",
            "placeholder": "​",
            "style": "IPY_MODEL_65e34b64cffb4e97bd12b26de853c268",
            "value": "Dl Completed...: 100%"
          }
        },
        "6eb265382ca64bab88c2e0d4b8b23c81": {
          "model_module": "@jupyter-widgets/controls",
          "model_name": "FloatProgressModel",
          "model_module_version": "1.5.0",
          "state": {
            "_dom_classes": [],
            "_model_module": "@jupyter-widgets/controls",
            "_model_module_version": "1.5.0",
            "_model_name": "FloatProgressModel",
            "_view_count": null,
            "_view_module": "@jupyter-widgets/controls",
            "_view_module_version": "1.5.0",
            "_view_name": "ProgressView",
            "bar_style": "success",
            "description": "",
            "description_tooltip": null,
            "layout": "IPY_MODEL_ddaa46ec5086447cb6410702a3b72113",
            "max": 5,
            "min": 0,
            "orientation": "horizontal",
            "style": "IPY_MODEL_010356e9e82b448a84be0857b7ce9585",
            "value": 5
          }
        },
        "eda7ac3552fc4fafb1055d8eb19ffae0": {
          "model_module": "@jupyter-widgets/controls",
          "model_name": "HTMLModel",
          "model_module_version": "1.5.0",
          "state": {
            "_dom_classes": [],
            "_model_module": "@jupyter-widgets/controls",
            "_model_module_version": "1.5.0",
            "_model_name": "HTMLModel",
            "_view_count": null,
            "_view_module": "@jupyter-widgets/controls",
            "_view_module_version": "1.5.0",
            "_view_name": "HTMLView",
            "description": "",
            "description_tooltip": null,
            "layout": "IPY_MODEL_3e6a09682b9c4a1a9931182b39f073e3",
            "placeholder": "​",
            "style": "IPY_MODEL_d74800755ff84994ad518293693c60c6",
            "value": " 5/5 [00:00&lt;00:00, 17.47 file/s]"
          }
        },
        "f158abd3ae37477e80cbdee519831099": {
          "model_module": "@jupyter-widgets/base",
          "model_name": "LayoutModel",
          "model_module_version": "1.2.0",
          "state": {
            "_model_module": "@jupyter-widgets/base",
            "_model_module_version": "1.2.0",
            "_model_name": "LayoutModel",
            "_view_count": null,
            "_view_module": "@jupyter-widgets/base",
            "_view_module_version": "1.2.0",
            "_view_name": "LayoutView",
            "align_content": null,
            "align_items": null,
            "align_self": null,
            "border": null,
            "bottom": null,
            "display": null,
            "flex": null,
            "flex_flow": null,
            "grid_area": null,
            "grid_auto_columns": null,
            "grid_auto_flow": null,
            "grid_auto_rows": null,
            "grid_column": null,
            "grid_gap": null,
            "grid_row": null,
            "grid_template_areas": null,
            "grid_template_columns": null,
            "grid_template_rows": null,
            "height": null,
            "justify_content": null,
            "justify_items": null,
            "left": null,
            "margin": null,
            "max_height": null,
            "max_width": null,
            "min_height": null,
            "min_width": null,
            "object_fit": null,
            "object_position": null,
            "order": null,
            "overflow": null,
            "overflow_x": null,
            "overflow_y": null,
            "padding": null,
            "right": null,
            "top": null,
            "visibility": null,
            "width": null
          }
        },
        "7fce68fb3e8f47658416e8f15d9f09c7": {
          "model_module": "@jupyter-widgets/base",
          "model_name": "LayoutModel",
          "model_module_version": "1.2.0",
          "state": {
            "_model_module": "@jupyter-widgets/base",
            "_model_module_version": "1.2.0",
            "_model_name": "LayoutModel",
            "_view_count": null,
            "_view_module": "@jupyter-widgets/base",
            "_view_module_version": "1.2.0",
            "_view_name": "LayoutView",
            "align_content": null,
            "align_items": null,
            "align_self": null,
            "border": null,
            "bottom": null,
            "display": null,
            "flex": null,
            "flex_flow": null,
            "grid_area": null,
            "grid_auto_columns": null,
            "grid_auto_flow": null,
            "grid_auto_rows": null,
            "grid_column": null,
            "grid_gap": null,
            "grid_row": null,
            "grid_template_areas": null,
            "grid_template_columns": null,
            "grid_template_rows": null,
            "height": null,
            "justify_content": null,
            "justify_items": null,
            "left": null,
            "margin": null,
            "max_height": null,
            "max_width": null,
            "min_height": null,
            "min_width": null,
            "object_fit": null,
            "object_position": null,
            "order": null,
            "overflow": null,
            "overflow_x": null,
            "overflow_y": null,
            "padding": null,
            "right": null,
            "top": null,
            "visibility": null,
            "width": null
          }
        },
        "65e34b64cffb4e97bd12b26de853c268": {
          "model_module": "@jupyter-widgets/controls",
          "model_name": "DescriptionStyleModel",
          "model_module_version": "1.5.0",
          "state": {
            "_model_module": "@jupyter-widgets/controls",
            "_model_module_version": "1.5.0",
            "_model_name": "DescriptionStyleModel",
            "_view_count": null,
            "_view_module": "@jupyter-widgets/base",
            "_view_module_version": "1.2.0",
            "_view_name": "StyleView",
            "description_width": ""
          }
        },
        "ddaa46ec5086447cb6410702a3b72113": {
          "model_module": "@jupyter-widgets/base",
          "model_name": "LayoutModel",
          "model_module_version": "1.2.0",
          "state": {
            "_model_module": "@jupyter-widgets/base",
            "_model_module_version": "1.2.0",
            "_model_name": "LayoutModel",
            "_view_count": null,
            "_view_module": "@jupyter-widgets/base",
            "_view_module_version": "1.2.0",
            "_view_name": "LayoutView",
            "align_content": null,
            "align_items": null,
            "align_self": null,
            "border": null,
            "bottom": null,
            "display": null,
            "flex": null,
            "flex_flow": null,
            "grid_area": null,
            "grid_auto_columns": null,
            "grid_auto_flow": null,
            "grid_auto_rows": null,
            "grid_column": null,
            "grid_gap": null,
            "grid_row": null,
            "grid_template_areas": null,
            "grid_template_columns": null,
            "grid_template_rows": null,
            "height": null,
            "justify_content": null,
            "justify_items": null,
            "left": null,
            "margin": null,
            "max_height": null,
            "max_width": null,
            "min_height": null,
            "min_width": null,
            "object_fit": null,
            "object_position": null,
            "order": null,
            "overflow": null,
            "overflow_x": null,
            "overflow_y": null,
            "padding": null,
            "right": null,
            "top": null,
            "visibility": null,
            "width": null
          }
        },
        "010356e9e82b448a84be0857b7ce9585": {
          "model_module": "@jupyter-widgets/controls",
          "model_name": "ProgressStyleModel",
          "model_module_version": "1.5.0",
          "state": {
            "_model_module": "@jupyter-widgets/controls",
            "_model_module_version": "1.5.0",
            "_model_name": "ProgressStyleModel",
            "_view_count": null,
            "_view_module": "@jupyter-widgets/base",
            "_view_module_version": "1.2.0",
            "_view_name": "StyleView",
            "bar_color": null,
            "description_width": ""
          }
        },
        "3e6a09682b9c4a1a9931182b39f073e3": {
          "model_module": "@jupyter-widgets/base",
          "model_name": "LayoutModel",
          "model_module_version": "1.2.0",
          "state": {
            "_model_module": "@jupyter-widgets/base",
            "_model_module_version": "1.2.0",
            "_model_name": "LayoutModel",
            "_view_count": null,
            "_view_module": "@jupyter-widgets/base",
            "_view_module_version": "1.2.0",
            "_view_name": "LayoutView",
            "align_content": null,
            "align_items": null,
            "align_self": null,
            "border": null,
            "bottom": null,
            "display": null,
            "flex": null,
            "flex_flow": null,
            "grid_area": null,
            "grid_auto_columns": null,
            "grid_auto_flow": null,
            "grid_auto_rows": null,
            "grid_column": null,
            "grid_gap": null,
            "grid_row": null,
            "grid_template_areas": null,
            "grid_template_columns": null,
            "grid_template_rows": null,
            "height": null,
            "justify_content": null,
            "justify_items": null,
            "left": null,
            "margin": null,
            "max_height": null,
            "max_width": null,
            "min_height": null,
            "min_width": null,
            "object_fit": null,
            "object_position": null,
            "order": null,
            "overflow": null,
            "overflow_x": null,
            "overflow_y": null,
            "padding": null,
            "right": null,
            "top": null,
            "visibility": null,
            "width": null
          }
        },
        "d74800755ff84994ad518293693c60c6": {
          "model_module": "@jupyter-widgets/controls",
          "model_name": "DescriptionStyleModel",
          "model_module_version": "1.5.0",
          "state": {
            "_model_module": "@jupyter-widgets/controls",
            "_model_module_version": "1.5.0",
            "_model_name": "DescriptionStyleModel",
            "_view_count": null,
            "_view_module": "@jupyter-widgets/base",
            "_view_module_version": "1.2.0",
            "_view_name": "StyleView",
            "description_width": ""
          }
        }
      }
    }
  },
  "cells": [
    {
      "cell_type": "code",
      "execution_count": 1,
      "metadata": {
        "id": "vZMEapPRhqKW"
      },
      "outputs": [],
      "source": [
        "import tensorflow as tf\n",
        "import tensorflow_datasets as tfds\n",
        "import numpy as np\n",
        "from matplotlib import pyplot as plt"
      ]
    },
    {
      "cell_type": "markdown",
      "source": [
        "# Training A New Model For Femonstration"
      ],
      "metadata": {
        "id": "-5Rbrd2nDv0i"
      }
    },
    {
      "cell_type": "markdown",
      "source": [
        "We will train a very simple model for MNIST digits classification"
      ],
      "metadata": {
        "id": "ZCUkq6SeD5zn"
      }
    },
    {
      "cell_type": "code",
      "source": [
        "(ds_train, ds_test), ds_info = tfds.load(\n",
        "    'mnist',\n",
        "    split=['train', 'test'],\n",
        "    shuffle_files=True,\n",
        "    as_supervised=True,\n",
        "    with_info=True,\n",
        ")"
      ],
      "metadata": {
        "id": "8zX5lrO8prtr",
        "colab": {
          "base_uri": "https://localhost:8080/",
          "height": 84,
          "referenced_widgets": [
            "e77a9e768c8345118ac299f27ba2a876",
            "7cf33ec171f5488280987c846a4524ac",
            "6eb265382ca64bab88c2e0d4b8b23c81",
            "eda7ac3552fc4fafb1055d8eb19ffae0",
            "f158abd3ae37477e80cbdee519831099",
            "7fce68fb3e8f47658416e8f15d9f09c7",
            "65e34b64cffb4e97bd12b26de853c268",
            "ddaa46ec5086447cb6410702a3b72113",
            "010356e9e82b448a84be0857b7ce9585",
            "3e6a09682b9c4a1a9931182b39f073e3",
            "d74800755ff84994ad518293693c60c6"
          ]
        },
        "outputId": "a75612bc-f2b3-45cd-feb5-28b2161816d9"
      },
      "execution_count": 2,
      "outputs": [
        {
          "output_type": "stream",
          "name": "stdout",
          "text": [
            "Downloading and preparing dataset 11.06 MiB (download: 11.06 MiB, generated: 21.00 MiB, total: 32.06 MiB) to /root/tensorflow_datasets/mnist/3.0.1...\n"
          ]
        },
        {
          "output_type": "display_data",
          "data": {
            "text/plain": [
              "Dl Completed...:   0%|          | 0/5 [00:00<?, ? file/s]"
            ],
            "application/vnd.jupyter.widget-view+json": {
              "version_major": 2,
              "version_minor": 0,
              "model_id": "e77a9e768c8345118ac299f27ba2a876"
            }
          },
          "metadata": {}
        },
        {
          "output_type": "stream",
          "name": "stdout",
          "text": [
            "Dataset mnist downloaded and prepared to /root/tensorflow_datasets/mnist/3.0.1. Subsequent calls will reuse this data.\n"
          ]
        }
      ]
    },
    {
      "cell_type": "code",
      "source": [
        "def normalize_img(image, label):\n",
        "  \"\"\"Normalizes images: `uint8` -> `float32`.\"\"\"\n",
        "  return tf.cast(image, tf.float32) / 255., label\n",
        "\n",
        "ds_train = ds_train.map(normalize_img, num_parallel_calls=tf.data.AUTOTUNE)\n",
        "ds_train = ds_train.cache()\n",
        "ds_train = ds_train.shuffle(ds_info.splits['train'].num_examples, seed=43)\n",
        "ds_train = ds_train.batch(128)\n",
        "ds_train = ds_train.prefetch(tf.data.AUTOTUNE)"
      ],
      "metadata": {
        "id": "4yQ2IY0Ypv_k"
      },
      "execution_count": 3,
      "outputs": []
    },
    {
      "cell_type": "code",
      "source": [
        "ds_test = ds_test.map(normalize_img, num_parallel_calls=tf.data.AUTOTUNE)\n",
        "ds_test = ds_test.batch(128)\n",
        "ds_test = ds_test.cache()\n",
        "ds_test = ds_test.prefetch(tf.data.AUTOTUNE)"
      ],
      "metadata": {
        "id": "4fQ59mlNp96d"
      },
      "execution_count": 4,
      "outputs": []
    },
    {
      "cell_type": "code",
      "source": [
        "model = tf.keras.models.Sequential([\n",
        "  tf.keras.layers.Conv2D(32, (3, 3), activation='relu', kernel_initializer='he_uniform', input_shape=(28, 28, 1)),\n",
        "  tf.keras.layers.Conv2D(16, (3, 3), activation='relu'),\n",
        "  tf.keras.layers.MaxPooling2D((2, 2)),\n",
        "  tf.keras.layers.Flatten(),\n",
        "  tf.keras.layers.Dense(100, activation='relu', kernel_initializer='he_uniform'),\n",
        "  tf.keras.layers.Dense(10, activation='softmax')\n",
        "])"
      ],
      "metadata": {
        "id": "DmsZyKeiqCxy"
      },
      "execution_count": 17,
      "outputs": []
    },
    {
      "cell_type": "code",
      "source": [
        "model.compile(\n",
        "    optimizer=tf.keras.optimizers.Adam(0.001),\n",
        "    loss=tf.keras.losses.SparseCategoricalCrossentropy(from_logits=True),\n",
        "    metrics=[tf.keras.metrics.SparseCategoricalAccuracy()],\n",
        ")\n",
        "\n",
        "model.fit(\n",
        "    ds_train,\n",
        "    epochs=100,\n",
        "    validation_data=ds_test,\n",
        ")"
      ],
      "metadata": {
        "colab": {
          "base_uri": "https://localhost:8080/"
        },
        "id": "kkR7yWoo4ENv",
        "outputId": "c98a77de-0f44-4b3b-882f-e600c4c1aaf7"
      },
      "execution_count": 18,
      "outputs": [
        {
          "output_type": "stream",
          "name": "stdout",
          "text": [
            "Epoch 1/100\n",
            "469/469 [==============================] - 5s 6ms/step - loss: 0.1484 - sparse_categorical_accuracy: 0.9554 - val_loss: 0.0568 - val_sparse_categorical_accuracy: 0.9821\n",
            "Epoch 2/100\n",
            "469/469 [==============================] - 3s 6ms/step - loss: 0.0448 - sparse_categorical_accuracy: 0.9864 - val_loss: 0.0468 - val_sparse_categorical_accuracy: 0.9846\n",
            "Epoch 3/100\n",
            "469/469 [==============================] - 3s 6ms/step - loss: 0.0291 - sparse_categorical_accuracy: 0.9913 - val_loss: 0.0345 - val_sparse_categorical_accuracy: 0.9881\n",
            "Epoch 4/100\n",
            "469/469 [==============================] - 2s 5ms/step - loss: 0.0205 - sparse_categorical_accuracy: 0.9934 - val_loss: 0.0451 - val_sparse_categorical_accuracy: 0.9858\n",
            "Epoch 5/100\n",
            "469/469 [==============================] - 2s 5ms/step - loss: 0.0150 - sparse_categorical_accuracy: 0.9952 - val_loss: 0.0330 - val_sparse_categorical_accuracy: 0.9895\n",
            "Epoch 6/100\n",
            "469/469 [==============================] - 2s 5ms/step - loss: 0.0126 - sparse_categorical_accuracy: 0.9961 - val_loss: 0.0403 - val_sparse_categorical_accuracy: 0.9881\n",
            "Epoch 7/100\n",
            "469/469 [==============================] - 3s 7ms/step - loss: 0.0086 - sparse_categorical_accuracy: 0.9973 - val_loss: 0.0361 - val_sparse_categorical_accuracy: 0.9892\n",
            "Epoch 8/100\n",
            "469/469 [==============================] - 3s 5ms/step - loss: 0.0077 - sparse_categorical_accuracy: 0.9973 - val_loss: 0.0397 - val_sparse_categorical_accuracy: 0.9881\n",
            "Epoch 9/100\n",
            "469/469 [==============================] - 3s 5ms/step - loss: 0.0070 - sparse_categorical_accuracy: 0.9976 - val_loss: 0.0411 - val_sparse_categorical_accuracy: 0.9892\n",
            "Epoch 10/100\n",
            "469/469 [==============================] - 2s 5ms/step - loss: 0.0045 - sparse_categorical_accuracy: 0.9983 - val_loss: 0.0436 - val_sparse_categorical_accuracy: 0.9888\n",
            "Epoch 11/100\n",
            "469/469 [==============================] - 3s 6ms/step - loss: 0.0085 - sparse_categorical_accuracy: 0.9971 - val_loss: 0.0454 - val_sparse_categorical_accuracy: 0.9884\n",
            "Epoch 12/100\n",
            "469/469 [==============================] - 3s 5ms/step - loss: 0.0038 - sparse_categorical_accuracy: 0.9987 - val_loss: 0.0412 - val_sparse_categorical_accuracy: 0.9901\n",
            "Epoch 13/100\n",
            "469/469 [==============================] - 2s 5ms/step - loss: 0.0036 - sparse_categorical_accuracy: 0.9987 - val_loss: 0.0450 - val_sparse_categorical_accuracy: 0.9904\n",
            "Epoch 14/100\n",
            "469/469 [==============================] - 2s 5ms/step - loss: 0.0054 - sparse_categorical_accuracy: 0.9983 - val_loss: 0.0436 - val_sparse_categorical_accuracy: 0.9901\n",
            "Epoch 15/100\n",
            "469/469 [==============================] - 3s 7ms/step - loss: 0.0044 - sparse_categorical_accuracy: 0.9987 - val_loss: 0.0564 - val_sparse_categorical_accuracy: 0.9886\n",
            "Epoch 16/100\n",
            "469/469 [==============================] - 3s 6ms/step - loss: 0.0032 - sparse_categorical_accuracy: 0.9988 - val_loss: 0.0520 - val_sparse_categorical_accuracy: 0.9893\n",
            "Epoch 17/100\n",
            "469/469 [==============================] - 3s 5ms/step - loss: 0.0040 - sparse_categorical_accuracy: 0.9986 - val_loss: 0.0525 - val_sparse_categorical_accuracy: 0.9883\n",
            "Epoch 18/100\n",
            "469/469 [==============================] - 4s 9ms/step - loss: 0.0013 - sparse_categorical_accuracy: 0.9997 - val_loss: 0.0445 - val_sparse_categorical_accuracy: 0.9908\n",
            "Epoch 19/100\n",
            "469/469 [==============================] - 4s 7ms/step - loss: 0.0016 - sparse_categorical_accuracy: 0.9996 - val_loss: 0.0492 - val_sparse_categorical_accuracy: 0.9895\n",
            "Epoch 20/100\n",
            "469/469 [==============================] - 3s 6ms/step - loss: 0.0062 - sparse_categorical_accuracy: 0.9980 - val_loss: 0.0475 - val_sparse_categorical_accuracy: 0.9888\n",
            "Epoch 21/100\n",
            "469/469 [==============================] - 5s 10ms/step - loss: 0.0029 - sparse_categorical_accuracy: 0.9991 - val_loss: 0.0594 - val_sparse_categorical_accuracy: 0.9880\n",
            "Epoch 22/100\n",
            "469/469 [==============================] - 3s 6ms/step - loss: 8.9315e-04 - sparse_categorical_accuracy: 0.9997 - val_loss: 0.0451 - val_sparse_categorical_accuracy: 0.9902\n",
            "Epoch 23/100\n",
            "469/469 [==============================] - 2s 5ms/step - loss: 3.1883e-04 - sparse_categorical_accuracy: 0.9999 - val_loss: 0.0456 - val_sparse_categorical_accuracy: 0.9904\n",
            "Epoch 24/100\n",
            "469/469 [==============================] - 3s 5ms/step - loss: 4.9752e-05 - sparse_categorical_accuracy: 1.0000 - val_loss: 0.0419 - val_sparse_categorical_accuracy: 0.9917\n",
            "Epoch 25/100\n",
            "469/469 [==============================] - 3s 6ms/step - loss: 1.3123e-05 - sparse_categorical_accuracy: 1.0000 - val_loss: 0.0430 - val_sparse_categorical_accuracy: 0.9915\n",
            "Epoch 26/100\n",
            "469/469 [==============================] - 3s 5ms/step - loss: 8.9982e-06 - sparse_categorical_accuracy: 1.0000 - val_loss: 0.0436 - val_sparse_categorical_accuracy: 0.9917\n",
            "Epoch 27/100\n",
            "469/469 [==============================] - 3s 5ms/step - loss: 6.8430e-06 - sparse_categorical_accuracy: 1.0000 - val_loss: 0.0442 - val_sparse_categorical_accuracy: 0.9918\n",
            "Epoch 28/100\n",
            "469/469 [==============================] - 3s 7ms/step - loss: 5.3580e-06 - sparse_categorical_accuracy: 1.0000 - val_loss: 0.0449 - val_sparse_categorical_accuracy: 0.9920\n",
            "Epoch 29/100\n",
            "469/469 [==============================] - 3s 5ms/step - loss: 4.2345e-06 - sparse_categorical_accuracy: 1.0000 - val_loss: 0.0456 - val_sparse_categorical_accuracy: 0.9918\n",
            "Epoch 30/100\n",
            "469/469 [==============================] - 3s 6ms/step - loss: 3.3678e-06 - sparse_categorical_accuracy: 1.0000 - val_loss: 0.0462 - val_sparse_categorical_accuracy: 0.9920\n",
            "Epoch 31/100\n",
            "469/469 [==============================] - 2s 5ms/step - loss: 2.7256e-06 - sparse_categorical_accuracy: 1.0000 - val_loss: 0.0469 - val_sparse_categorical_accuracy: 0.9920\n",
            "Epoch 32/100\n",
            "469/469 [==============================] - 3s 6ms/step - loss: 2.1564e-06 - sparse_categorical_accuracy: 1.0000 - val_loss: 0.0476 - val_sparse_categorical_accuracy: 0.9920\n",
            "Epoch 33/100\n",
            "469/469 [==============================] - 3s 5ms/step - loss: 1.7375e-06 - sparse_categorical_accuracy: 1.0000 - val_loss: 0.0482 - val_sparse_categorical_accuracy: 0.9919\n",
            "Epoch 34/100\n",
            "469/469 [==============================] - 3s 5ms/step - loss: 1.4061e-06 - sparse_categorical_accuracy: 1.0000 - val_loss: 0.0494 - val_sparse_categorical_accuracy: 0.9919\n",
            "Epoch 35/100\n",
            "469/469 [==============================] - 3s 6ms/step - loss: 1.1183e-06 - sparse_categorical_accuracy: 1.0000 - val_loss: 0.0501 - val_sparse_categorical_accuracy: 0.9920\n",
            "Epoch 36/100\n",
            "469/469 [==============================] - 3s 7ms/step - loss: 8.8972e-07 - sparse_categorical_accuracy: 1.0000 - val_loss: 0.0510 - val_sparse_categorical_accuracy: 0.9921\n",
            "Epoch 37/100\n",
            "469/469 [==============================] - 3s 5ms/step - loss: 7.1028e-07 - sparse_categorical_accuracy: 1.0000 - val_loss: 0.0516 - val_sparse_categorical_accuracy: 0.9920\n",
            "Epoch 38/100\n",
            "469/469 [==============================] - 3s 6ms/step - loss: 5.6898e-07 - sparse_categorical_accuracy: 1.0000 - val_loss: 0.0526 - val_sparse_categorical_accuracy: 0.9920\n",
            "Epoch 39/100\n",
            "469/469 [==============================] - 3s 5ms/step - loss: 4.5117e-07 - sparse_categorical_accuracy: 1.0000 - val_loss: 0.0534 - val_sparse_categorical_accuracy: 0.9920\n",
            "Epoch 40/100\n",
            "469/469 [==============================] - 2s 5ms/step - loss: 3.5777e-07 - sparse_categorical_accuracy: 1.0000 - val_loss: 0.0542 - val_sparse_categorical_accuracy: 0.9920\n",
            "Epoch 41/100\n",
            "469/469 [==============================] - 3s 5ms/step - loss: 2.8276e-07 - sparse_categorical_accuracy: 1.0000 - val_loss: 0.0554 - val_sparse_categorical_accuracy: 0.9918\n",
            "Epoch 42/100\n",
            "469/469 [==============================] - 3s 6ms/step - loss: 2.2279e-07 - sparse_categorical_accuracy: 1.0000 - val_loss: 0.0564 - val_sparse_categorical_accuracy: 0.9919\n",
            "Epoch 43/100\n",
            "469/469 [==============================] - 3s 6ms/step - loss: 1.7570e-07 - sparse_categorical_accuracy: 1.0000 - val_loss: 0.0573 - val_sparse_categorical_accuracy: 0.9917\n",
            "Epoch 44/100\n",
            "469/469 [==============================] - 3s 5ms/step - loss: 1.3947e-07 - sparse_categorical_accuracy: 1.0000 - val_loss: 0.0585 - val_sparse_categorical_accuracy: 0.9918\n",
            "Epoch 45/100\n",
            "469/469 [==============================] - 3s 5ms/step - loss: 1.1096e-07 - sparse_categorical_accuracy: 1.0000 - val_loss: 0.0594 - val_sparse_categorical_accuracy: 0.9917\n",
            "Epoch 46/100\n",
            "469/469 [==============================] - 3s 6ms/step - loss: 8.6518e-08 - sparse_categorical_accuracy: 1.0000 - val_loss: 0.0601 - val_sparse_categorical_accuracy: 0.9918\n",
            "Epoch 47/100\n",
            "469/469 [==============================] - 3s 7ms/step - loss: 6.9002e-08 - sparse_categorical_accuracy: 1.0000 - val_loss: 0.0614 - val_sparse_categorical_accuracy: 0.9919\n",
            "Epoch 48/100\n",
            "469/469 [==============================] - 3s 5ms/step - loss: 5.4717e-08 - sparse_categorical_accuracy: 1.0000 - val_loss: 0.0622 - val_sparse_categorical_accuracy: 0.9918\n",
            "Epoch 49/100\n",
            "469/469 [==============================] - 3s 5ms/step - loss: 4.3164e-08 - sparse_categorical_accuracy: 1.0000 - val_loss: 0.0633 - val_sparse_categorical_accuracy: 0.9918\n",
            "Epoch 50/100\n",
            "469/469 [==============================] - 3s 5ms/step - loss: 3.4193e-08 - sparse_categorical_accuracy: 1.0000 - val_loss: 0.0644 - val_sparse_categorical_accuracy: 0.9917\n",
            "Epoch 51/100\n",
            "469/469 [==============================] - 3s 7ms/step - loss: 2.6929e-08 - sparse_categorical_accuracy: 1.0000 - val_loss: 0.0651 - val_sparse_categorical_accuracy: 0.9919\n",
            "Epoch 52/100\n",
            "469/469 [==============================] - 3s 5ms/step - loss: 2.1686e-08 - sparse_categorical_accuracy: 1.0000 - val_loss: 0.0660 - val_sparse_categorical_accuracy: 0.9917\n",
            "Epoch 53/100\n",
            "469/469 [==============================] - 3s 5ms/step - loss: 1.7122e-08 - sparse_categorical_accuracy: 1.0000 - val_loss: 0.0671 - val_sparse_categorical_accuracy: 0.9918\n",
            "Epoch 54/100\n",
            "469/469 [==============================] - 3s 5ms/step - loss: 1.3626e-08 - sparse_categorical_accuracy: 1.0000 - val_loss: 0.0682 - val_sparse_categorical_accuracy: 0.9916\n",
            "Epoch 55/100\n",
            "469/469 [==============================] - 3s 6ms/step - loss: 1.0947e-08 - sparse_categorical_accuracy: 1.0000 - val_loss: 0.0691 - val_sparse_categorical_accuracy: 0.9916\n",
            "Epoch 56/100\n",
            "469/469 [==============================] - 4s 8ms/step - loss: 8.8731e-09 - sparse_categorical_accuracy: 1.0000 - val_loss: 0.0697 - val_sparse_categorical_accuracy: 0.9916\n",
            "Epoch 57/100\n",
            "469/469 [==============================] - 3s 5ms/step - loss: 7.1386e-09 - sparse_categorical_accuracy: 1.0000 - val_loss: 0.0708 - val_sparse_categorical_accuracy: 0.9916\n",
            "Epoch 58/100\n",
            "469/469 [==============================] - 3s 5ms/step - loss: 5.7995e-09 - sparse_categorical_accuracy: 1.0000 - val_loss: 0.0717 - val_sparse_categorical_accuracy: 0.9915\n",
            "Epoch 59/100\n",
            "469/469 [==============================] - 4s 8ms/step - loss: 4.8300e-09 - sparse_categorical_accuracy: 1.0000 - val_loss: 0.0718 - val_sparse_categorical_accuracy: 0.9916\n",
            "Epoch 60/100\n",
            "469/469 [==============================] - 3s 5ms/step - loss: 3.8584e-09 - sparse_categorical_accuracy: 1.0000 - val_loss: 0.0728 - val_sparse_categorical_accuracy: 0.9916\n",
            "Epoch 61/100\n",
            "469/469 [==============================] - 3s 5ms/step - loss: 3.2544e-09 - sparse_categorical_accuracy: 1.0000 - val_loss: 0.0734 - val_sparse_categorical_accuracy: 0.9916\n",
            "Epoch 62/100\n",
            "469/469 [==============================] - 3s 5ms/step - loss: 2.6762e-09 - sparse_categorical_accuracy: 1.0000 - val_loss: 0.0740 - val_sparse_categorical_accuracy: 0.9916\n",
            "Epoch 63/100\n",
            "469/469 [==============================] - 3s 7ms/step - loss: 2.2590e-09 - sparse_categorical_accuracy: 1.0000 - val_loss: 0.0746 - val_sparse_categorical_accuracy: 0.9916\n",
            "Epoch 64/100\n",
            "469/469 [==============================] - 3s 5ms/step - loss: 1.9034e-09 - sparse_categorical_accuracy: 1.0000 - val_loss: 0.0749 - val_sparse_categorical_accuracy: 0.9916\n",
            "Epoch 65/100\n",
            "469/469 [==============================] - 3s 5ms/step - loss: 1.6212e-09 - sparse_categorical_accuracy: 1.0000 - val_loss: 0.0756 - val_sparse_categorical_accuracy: 0.9916\n",
            "Epoch 66/100\n",
            "469/469 [==============================] - 3s 6ms/step - loss: 1.3967e-09 - sparse_categorical_accuracy: 1.0000 - val_loss: 0.0761 - val_sparse_categorical_accuracy: 0.9916\n",
            "Epoch 67/100\n",
            "469/469 [==============================] - 3s 6ms/step - loss: 1.1881e-09 - sparse_categorical_accuracy: 1.0000 - val_loss: 0.0766 - val_sparse_categorical_accuracy: 0.9916\n",
            "Epoch 68/100\n",
            "469/469 [==============================] - 3s 7ms/step - loss: 1.0331e-09 - sparse_categorical_accuracy: 1.0000 - val_loss: 0.0769 - val_sparse_categorical_accuracy: 0.9916\n",
            "Epoch 69/100\n",
            "469/469 [==============================] - 3s 7ms/step - loss: 9.3977e-10 - sparse_categorical_accuracy: 1.0000 - val_loss: 0.0771 - val_sparse_categorical_accuracy: 0.9916\n",
            "Epoch 70/100\n",
            "469/469 [==============================] - 3s 5ms/step - loss: 8.0466e-10 - sparse_categorical_accuracy: 1.0000 - val_loss: 0.0769 - val_sparse_categorical_accuracy: 0.9916\n",
            "Epoch 71/100\n",
            "469/469 [==============================] - 3s 5ms/step - loss: 7.4108e-10 - sparse_categorical_accuracy: 1.0000 - val_loss: 0.0773 - val_sparse_categorical_accuracy: 0.9916\n",
            "Epoch 72/100\n",
            "469/469 [==============================] - 3s 5ms/step - loss: 6.7552e-10 - sparse_categorical_accuracy: 1.0000 - val_loss: 0.0771 - val_sparse_categorical_accuracy: 0.9915\n",
            "Epoch 73/100\n",
            "469/469 [==============================] - 3s 5ms/step - loss: 6.3181e-10 - sparse_categorical_accuracy: 1.0000 - val_loss: 0.0774 - val_sparse_categorical_accuracy: 0.9916\n",
            "Epoch 74/100\n",
            "469/469 [==============================] - 3s 7ms/step - loss: 5.8413e-10 - sparse_categorical_accuracy: 1.0000 - val_loss: 0.0769 - val_sparse_categorical_accuracy: 0.9915\n",
            "Epoch 75/100\n",
            "469/469 [==============================] - 3s 5ms/step - loss: 5.7022e-10 - sparse_categorical_accuracy: 1.0000 - val_loss: 0.0772 - val_sparse_categorical_accuracy: 0.9915\n",
            "Epoch 76/100\n",
            "469/469 [==============================] - 3s 5ms/step - loss: 5.2452e-10 - sparse_categorical_accuracy: 1.0000 - val_loss: 0.0772 - val_sparse_categorical_accuracy: 0.9916\n",
            "Epoch 77/100\n",
            "469/469 [==============================] - 3s 6ms/step - loss: 5.2651e-10 - sparse_categorical_accuracy: 1.0000 - val_loss: 0.0771 - val_sparse_categorical_accuracy: 0.9916\n",
            "Epoch 78/100\n",
            "469/469 [==============================] - 3s 6ms/step - loss: 5.1061e-10 - sparse_categorical_accuracy: 1.0000 - val_loss: 0.0773 - val_sparse_categorical_accuracy: 0.9915\n",
            "Epoch 79/100\n",
            "469/469 [==============================] - 3s 5ms/step - loss: 4.7088e-10 - sparse_categorical_accuracy: 1.0000 - val_loss: 0.0767 - val_sparse_categorical_accuracy: 0.9916\n",
            "Epoch 80/100\n",
            "469/469 [==============================] - 3s 5ms/step - loss: 4.5300e-10 - sparse_categorical_accuracy: 1.0000 - val_loss: 0.0770 - val_sparse_categorical_accuracy: 0.9916\n",
            "Epoch 81/100\n",
            "469/469 [==============================] - 3s 7ms/step - loss: 4.4306e-10 - sparse_categorical_accuracy: 1.0000 - val_loss: 0.0774 - val_sparse_categorical_accuracy: 0.9916\n",
            "Epoch 82/100\n",
            "469/469 [==============================] - 3s 6ms/step - loss: 4.3909e-10 - sparse_categorical_accuracy: 1.0000 - val_loss: 0.0771 - val_sparse_categorical_accuracy: 0.9916\n",
            "Epoch 83/100\n",
            "469/469 [==============================] - 3s 5ms/step - loss: 4.2319e-10 - sparse_categorical_accuracy: 1.0000 - val_loss: 0.0772 - val_sparse_categorical_accuracy: 0.9916\n",
            "Epoch 84/100\n",
            "469/469 [==============================] - 3s 5ms/step - loss: 4.1127e-10 - sparse_categorical_accuracy: 1.0000 - val_loss: 0.0770 - val_sparse_categorical_accuracy: 0.9916\n",
            "Epoch 85/100\n",
            "469/469 [==============================] - 3s 7ms/step - loss: 3.7948e-10 - sparse_categorical_accuracy: 1.0000 - val_loss: 0.0772 - val_sparse_categorical_accuracy: 0.9915\n",
            "Epoch 86/100\n",
            "469/469 [==============================] - 3s 6ms/step - loss: 3.9140e-10 - sparse_categorical_accuracy: 1.0000 - val_loss: 0.0769 - val_sparse_categorical_accuracy: 0.9916\n",
            "Epoch 87/100\n",
            "469/469 [==============================] - 3s 5ms/step - loss: 3.8147e-10 - sparse_categorical_accuracy: 1.0000 - val_loss: 0.0771 - val_sparse_categorical_accuracy: 0.9916\n",
            "Epoch 88/100\n",
            "469/469 [==============================] - 3s 6ms/step - loss: 3.5365e-10 - sparse_categorical_accuracy: 1.0000 - val_loss: 0.0772 - val_sparse_categorical_accuracy: 0.9917\n",
            "Epoch 89/100\n",
            "469/469 [==============================] - 3s 6ms/step - loss: 3.4173e-10 - sparse_categorical_accuracy: 1.0000 - val_loss: 0.0773 - val_sparse_categorical_accuracy: 0.9916\n",
            "Epoch 90/100\n",
            "469/469 [==============================] - 3s 5ms/step - loss: 3.3975e-10 - sparse_categorical_accuracy: 1.0000 - val_loss: 0.0771 - val_sparse_categorical_accuracy: 0.9917\n",
            "Epoch 91/100\n",
            "469/469 [==============================] - 3s 5ms/step - loss: 3.2187e-10 - sparse_categorical_accuracy: 1.0000 - val_loss: 0.0770 - val_sparse_categorical_accuracy: 0.9917\n",
            "Epoch 92/100\n",
            "469/469 [==============================] - 3s 6ms/step - loss: 3.1789e-10 - sparse_categorical_accuracy: 1.0000 - val_loss: 0.0771 - val_sparse_categorical_accuracy: 0.9917\n",
            "Epoch 93/100\n",
            "469/469 [==============================] - 3s 6ms/step - loss: 3.1590e-10 - sparse_categorical_accuracy: 1.0000 - val_loss: 0.0773 - val_sparse_categorical_accuracy: 0.9917\n",
            "Epoch 94/100\n",
            "469/469 [==============================] - 3s 5ms/step - loss: 3.0200e-10 - sparse_categorical_accuracy: 1.0000 - val_loss: 0.0775 - val_sparse_categorical_accuracy: 0.9916\n",
            "Epoch 95/100\n",
            "469/469 [==============================] - 3s 7ms/step - loss: 2.9008e-10 - sparse_categorical_accuracy: 1.0000 - val_loss: 0.0775 - val_sparse_categorical_accuracy: 0.9915\n",
            "Epoch 96/100\n",
            "469/469 [==============================] - 3s 5ms/step - loss: 2.7418e-10 - sparse_categorical_accuracy: 1.0000 - val_loss: 0.0775 - val_sparse_categorical_accuracy: 0.9916\n",
            "Epoch 97/100\n",
            "469/469 [==============================] - 3s 5ms/step - loss: 2.5431e-10 - sparse_categorical_accuracy: 1.0000 - val_loss: 0.0776 - val_sparse_categorical_accuracy: 0.9916\n",
            "Epoch 98/100\n",
            "469/469 [==============================] - 3s 7ms/step - loss: 2.7815e-10 - sparse_categorical_accuracy: 1.0000 - val_loss: 0.0778 - val_sparse_categorical_accuracy: 0.9917\n",
            "Epoch 99/100\n",
            "469/469 [==============================] - 3s 6ms/step - loss: 2.5630e-10 - sparse_categorical_accuracy: 1.0000 - val_loss: 0.0780 - val_sparse_categorical_accuracy: 0.9916\n",
            "Epoch 100/100\n",
            "469/469 [==============================] - 3s 5ms/step - loss: 2.5829e-10 - sparse_categorical_accuracy: 1.0000 - val_loss: 0.0781 - val_sparse_categorical_accuracy: 0.9916\n"
          ]
        },
        {
          "output_type": "execute_result",
          "data": {
            "text/plain": [
              "<keras.callbacks.History at 0x7f0e13abf880>"
            ]
          },
          "metadata": {},
          "execution_count": 18
        }
      ]
    },
    {
      "cell_type": "code",
      "source": [
        "# Try our model\n",
        "\n",
        "res = model.predict(ds_test)\n",
        "\n",
        "yhat = res[:128]\n",
        "yhat = list(map(np.argmax, yhat))\n",
        "images = list(ds_test)[0][0]\n",
        "images = list(map(np.squeeze, images))\n",
        "\n",
        "fig, axs = plt.subplots(nrows=5, ncols=5, figsize=(15, 15))\n",
        "\n",
        "for i in range(25):\n",
        "  axs[i // 5, i % 5].imshow(images[i], cmap='gray')\n",
        "  axs[i // 5, i % 5].set_title(f'pred: {yhat[i]}')\n",
        "  axs[i // 5, i % 5].axis('off')\n",
        "\n",
        "fig.show()"
      ],
      "metadata": {
        "id": "wjAFTVvJvtqm",
        "colab": {
          "base_uri": "https://localhost:8080/",
          "height": 917
        },
        "outputId": "ae7bd37d-ec9f-49c5-9d89-ec7172133cf7"
      },
      "execution_count": 19,
      "outputs": [
        {
          "output_type": "stream",
          "name": "stderr",
          "text": [
            "WARNING:tensorflow:5 out of the last 83 calls to <function Model.make_predict_function.<locals>.predict_function at 0x7f0e13b00430> triggered tf.function retracing. Tracing is expensive and the excessive number of tracings could be due to (1) creating @tf.function repeatedly in a loop, (2) passing tensors with different shapes, (3) passing Python objects instead of tensors. For (1), please define your @tf.function outside of the loop. For (2), @tf.function has reduce_retracing=True option that can avoid unnecessary retracing. For (3), please refer to https://www.tensorflow.org/guide/function#controlling_retracing and https://www.tensorflow.org/api_docs/python/tf/function for  more details.\n"
          ]
        },
        {
          "output_type": "stream",
          "name": "stdout",
          "text": [
            "79/79 [==============================] - 0s 2ms/step\n"
          ]
        },
        {
          "output_type": "display_data",
          "data": {
            "text/plain": [
              "<Figure size 1080x1080 with 25 Axes>"
            ],
            "image/png": "[encoded data removed]"
          },
          "metadata": {
            "needs_background": "light"
          }
        }
      ]
    },
    {
      "cell_type": "code",
      "source": [],
      "metadata": {
        "id": "Lp4kYS3rkodo"
      },
      "execution_count": 12,
      "outputs": []
    },
    {
      "cell_type": "markdown",
      "source": [
        "# Feature Map and Filter Visualization For CNN Layers\n",
        "\n",
        "Feature Visualization translates the internal features present in an image into visually perceptible or recognizable image patterns. Feature visualization will help us understand the learned features explicitly."
      ],
      "metadata": {
        "id": "4bYUz1vuJYPj"
      }
    },
    {
      "cell_type": "markdown",
      "source": [
        "## **Visualizing Filters or Feature Detectors in a CNN**\n",
        "\n",
        "CNN uses learned filters to convolve the feature maps from the previous layer. Filters are two- dimensional weights and these weights have a spatial relationship with each other.\n",
        "\n",
        "\n",
        "---\n",
        "\n",
        "\n",
        "Visualizing the filters:\n",
        "\n",
        "1.    Iterate through all the layers of the model using *model.layers*\n",
        "2.    If the layer is a convolutional layer, then extract the weights and bias values using *get_weights()* for that layer.\n",
        "3.    Normalize the weights for the filters between 0 and 1\n",
        "4.    Plot the filters for each of the convolutional layers and all the channels. For Color image, you will have three channels for RGB. For a grayscale image, the number of channels will be 1"
      ],
      "metadata": {
        "id": "WYbfULQ4j3WZ"
      }
    },
    {
      "cell_type": "code",
      "source": [
        "# Visualizing Filters\n",
        "\n",
        "# Go through all the layers of the model\n",
        "# This is not important in our case because we only have one conv layer\n",
        "for layer in model.layers:\n",
        "  if 'conv' in layer.name:\n",
        "    weights, bias= layer.get_weights()\n",
        "    print(f'Layer {layer.name} filters {weights.shape}')\n",
        "    \n",
        "    # normalize filter values between  0 and 1 for visualization\n",
        "    f_min, f_max = weights.min(), weights.max()\n",
        "    #print(f_min, f_max)\n",
        "    filters = (weights - f_min) / (f_max - f_min)  \n",
        "    #print(filters.shape[3])\n",
        "   \n",
        "    n_filters = filters.shape[-1]  # number of filters\n",
        "\n",
        "    fig, axs = plt.subplots(nrows=1, ncols=n_filters, figsize=(20, 20))\n",
        "    for i in range(n_filters):\n",
        "      axs[i].imshow(filters[:, :, 0, i], cmap='viridis')\n",
        "      axs[i].axis('off')\n",
        "    fig.show()"
      ],
      "metadata": {
        "colab": {
          "base_uri": "https://localhost:8080/",
          "height": 168
        },
        "id": "cje_WduHkoaD",
        "outputId": "c796c2c7-880a-4d4e-ae3f-bb0afd6ece65"
      },
      "execution_count": 51,
      "outputs": [
        {
          "output_type": "stream",
          "name": "stdout",
          "text": [
            "Layer conv2d_2 filters (3, 3, 1, 32)\n",
            "Layer conv2d_3 filters (3, 3, 32, 16)\n"
          ]
        },
        {
          "output_type": "display_data",
          "data": {
            "text/plain": [
              "<Figure size 1440x1440 with 32 Axes>"
            ],
            "image/png": "[encoded data removed]"
          },
          "metadata": {
            "needs_background": "light"
          }
        },
        {
          "output_type": "display_data",
          "data": {
            "text/plain": [
              "<Figure size 1440x1440 with 16 Axes>"
            ],
            "image/png": "[encoded data removed]"
          },
          "metadata": {
            "needs_background": "light"
          }
        }
      ]
    },
    {
      "cell_type": "markdown",
      "source": [
        "## Visualizing Feature maps or Activation maps generated in a CNN\n",
        "Feature maps are generated by applying Filters or Feature detectors to the input image or the feature map output of the prior layers. Feature map visualization will provide insight into the internal representations for specific input for each of the Convolutional layers in the model.\n",
        "\n",
        "\n",
        "\n",
        "---\n",
        "\n",
        "\n",
        "\n",
        "Visualizing the feature maps:\n",
        "\n",
        "1.    Define a new model, visualization_model that will take an image as the input. The output of the model will be feature maps, which are an intermediate representation for all layers after the first layer. This is based on the model we have used for training.\n",
        "\n",
        "2.    Run an input image through the visualization model to obtain all\n",
        "intermediate representations for the input image. This will let us  view the Feature map to understand which features were prominent to classify the image.\n",
        "\n",
        "3.    Create the plot for all of the convolutional layers and the max pool layers but not for the fully connected layer. For plotting the Feature maps, retrieve the layer name for each of the layers in the model."
      ],
      "metadata": {
        "id": "ak9U1oCwk4Cc"
      }
    },
    {
      "cell_type": "code",
      "source": [
        "# Obtain a sample image from the dataset\n",
        "test_image = list(ds_test)[0][0][8]\n",
        "\n",
        "plt.imshow(np.squeeze(test_image))"
      ],
      "metadata": {
        "colab": {
          "base_uri": "https://localhost:8080/",
          "height": 282
        },
        "id": "bHmw-5Z95Q8g",
        "outputId": "7a109cb8-6d1b-432b-a325-02e17b3f81fb"
      },
      "execution_count": 65,
      "outputs": [
        {
          "output_type": "execute_result",
          "data": {
            "text/plain": [
              "<matplotlib.image.AxesImage at 0x7f0e14028730>"
            ]
          },
          "metadata": {},
          "execution_count": 65
        },
        {
          "output_type": "display_data",
          "data": {
            "text/plain": [
              "<Figure size 432x288 with 1 Axes>"
            ],
            "image/png": "[encoded data removed]"
          },
          "metadata": {
            "needs_background": "light"
          }
        }
      ]
    },
    {
      "cell_type": "code",
      "source": [
        "test_image = tf.expand_dims(test_image, 0)\n",
        "\n",
        "# Define a new Model, Input= image \n",
        "# Output= intermediate representations for all layers in the  \n",
        "# previous model after the first.\n",
        "successive_outputs = [layer.output for layer in model.layers[1:]]\n",
        "visualization_model = tf.keras.models.Model(inputs = model.input, outputs = successive_outputs)\n",
        "\n",
        "# Let's run input image through our vislauization network\n",
        "# to obtain all intermediate representations for the image.\n",
        "successive_feature_maps = visualization_model.predict(test_image)\n",
        "\n",
        "# Retrieve the names of the layers to print\n",
        "layer_names = [layer.name for layer in model.layers]\n",
        "\n",
        "for layer_name, feature_map in zip(layer_names, successive_feature_maps):\n",
        "  # Plot Feature maps for the conv / maxpool layers, not the fully-connected layers\n",
        "  if len(feature_map.shape) == 4:\n",
        "    print(f'Layer {layer_name} outputs {feature_map.shape}')\n",
        "   \n",
        "    n_features = feature_map.shape[-1]  # number of features in the feature map\n",
        "\n",
        "    fig, axs = plt.subplots(nrows=1, ncols=n_features, figsize=(20, 20))\n",
        "    for i in range(n_features):\n",
        "      x = feature_map[0, :, :, i]\n",
        "      # normalize filter values between  0 and 1 for visualization\n",
        "      x /= x.max()\n",
        "      axs[i].imshow(x, cmap='viridis')\n",
        "      axs[i].axis('off')\n",
        "    fig.show()"
      ],
      "metadata": {
        "colab": {
          "base_uri": "https://localhost:8080/",
          "height": 215
        },
        "id": "yeD1h0TkkoWR",
        "outputId": "686661ad-47a8-4e15-8307-2a4d71304971"
      },
      "execution_count": 66,
      "outputs": [
        {
          "output_type": "stream",
          "name": "stdout",
          "text": [
            "1/1 [==============================] - 0s 82ms/step\n",
            "Layer conv2d_2 outputs (1, 24, 24, 16)\n",
            "Layer conv2d_3 outputs (1, 12, 12, 16)\n"
          ]
        },
        {
          "output_type": "display_data",
          "data": {
            "text/plain": [
              "<Figure size 1440x1440 with 16 Axes>"
            ],
            "image/png": "[encoded data removed]"
          },
          "metadata": {
            "needs_background": "light"
          }
        },
        {
          "output_type": "display_data",
          "data": {
            "text/plain": [
              "<Figure size 1440x1440 with 16 Axes>"
            ],
            "image/png": "[encoded data removed]"
          },
          "metadata": {
            "needs_background": "light"
          }
        }
      ]
    },
    {
      "cell_type": "markdown",
      "source": [
        "As a rule of thumb, bright areas in the feature map indicate the features that are important for the network to make a decision.\n",
        "For example, here it is clear that the edges and the horizontal lines in the number 3 are essential for classification."
      ],
      "metadata": {
        "id": "4xJximD-2hJ8"
      }
    }
  ]
}