{
  "nbformat": 4,
  "nbformat_minor": 0,
  "metadata": {
    "colab": {
      "provenance": [],
      "collapsed_sections": [
        "mKavbgvayjk1"
      ]
    },
    "kernelspec": {
      "name": "python3",
      "display_name": "Python 3"
    },
    "language_info": {
      "name": "python"
    },
    "gpuClass": "standard",
    "accelerator": "GPU"
  },
  "cells": [
    {
      "cell_type": "markdown",
      "source": [
        "# Bolt Tracking\n",
        "\n",
        "The goal of the project is to detect, track and count the number of bolts on a moving conveyor belt.\n",
        "This project uses YOLOv8."
      ],
      "metadata": {
        "id": "k8yT7KS_xjzO"
      }
    },
    {
      "cell_type": "markdown",
      "source": [
        "# Training"
      ],
      "metadata": {
        "id": "mKavbgvayjk1"
      }
    },
    {
      "cell_type": "code",
      "source": [
        "# Access google drive and change directory to project folder\n",
        "from google.colab import drive\n",
        "drive.mount('/content/drive')\n",
        "\n",
        "%cd /content/drive/MyDrive/DadepardazAfagh/Bolts\n",
        "\n",
        "!git clone https://github.com/ultralytics/ultralytics.git\n",
        "\n",
        "%cd ultralytics/\n",
        "\n",
        "!pip install -r requirements.txt\n",
        "!pip install ultralytics\n",
        "!pip install roboflow"
      ],
      "metadata": {
        "id": "S46pqORw4-r9"
      },
      "execution_count": null,
      "outputs": []
    },
    {
      "cell_type": "code",
      "source": [
        "# DATASET: https://universe.roboflow.com/ml-datasets/bolts-on-conveyor-belt\n",
        "\n",
        "from roboflow import Roboflow\n",
        "rf = Roboflow(api_key=\"<YOUR KEY>\")\n",
        "project = rf.workspace(\"ml-datasets\").project(\"bolts-on-conveyor-belt\")\n",
        "dataset = project.version(1).download(\"yolov8\")"
      ],
      "metadata": {
        "id": "S_p7C1glBtGX"
      },
      "execution_count": null,
      "outputs": []
    },
    {
      "cell_type": "code",
      "source": [
        "from ultralytics import YOLO\n",
        "\n",
        "# Load a model\n",
        "model = YOLO(\"yolov8m.pt\")  # load a pretrained model (recommended for training)\n",
        "\n",
        "# Train the model\n",
        "model.train(data=\"/content/gdrive/MyDrive/DadepardazAfagh/Bolts/ultralytics/Bolts-on-Conveyor-Belt-1/data.yaml\", device='0', batch=16, epochs=30, imgsz=640)"
      ],
      "metadata": {
        "id": "DXvRzVneCOov"
      },
      "execution_count": null,
      "outputs": []
    },
    {
      "cell_type": "markdown",
      "source": [
        "# Implementation"
      ],
      "metadata": {
        "id": "P0vdkT_kyou6"
      }
    },
    {
      "cell_type": "code",
      "source": [
        "import os\n",
        "import cv2\n",
        "import imageio\n",
        "from ultralytics import YOLO\n",
        "\n",
        "# A function to show a progress bar\n",
        "from IPython.display import HTML, display\n",
        "def progress(value, max=100):\n",
        "    return HTML(\"\"\"\n",
        "        <progress\n",
        "            value='{value}'\n",
        "            max='{max}',\n",
        "            style='width: 50%'\n",
        "        >\n",
        "            {value}\n",
        "        </progress>\n",
        "    \"\"\".format(value=value, max=max))"
      ],
      "metadata": {
        "id": "s0nyXmij5vyD"
      },
      "execution_count": 2,
      "outputs": []
    },
    {
      "cell_type": "code",
      "source": [
        "model = YOLO('bolts.pt')\n",
        "tracker = 'botsort.yaml'\n",
        "read_dir = 'final_test_bolts'\n",
        "save_gif = 'bolts.gif'\n",
        "\n",
        "count = set()\n",
        "frames = list()\n",
        "\n",
        "results = model.track(read_dir, device='0', tracker=tracker)\n",
        "\n",
        "out = display(progress(0, len(results) - 1), display_id=True)\n",
        "\n",
        "for result in results:\n",
        "  out.update(progress(results.index(result), len(results) - 1))\n",
        "\n",
        "  image_path = result.path\n",
        "  image = cv2.imread(image_path)\n",
        "\n",
        "  if image is None:\n",
        "    continue\n",
        "\n",
        "  scale_percent = 20 # percent of original size\n",
        "  width = int(image.shape[1] * scale_percent / 100)\n",
        "  height = int(image.shape[0] * scale_percent / 100)\n",
        "  dim = (width, height)\n",
        "  # resize image\n",
        "  image = cv2.resize(image, dim, interpolation = cv2.INTER_AREA)\n",
        "\n",
        "  width = int(image.shape[1])\n",
        "  height = int(image.shape[0])\n",
        "\n",
        "  half = height // 2\n",
        "\n",
        "  xywhs = result.boxes.xywhn\n",
        "  ids = result.boxes.id\n",
        "\n",
        "  image = cv2.line(image, (0, half), (width, half), (0, 255, 255), 2) \n",
        "\n",
        "  for (x, y, w, h), id in zip(xywhs, ids):\n",
        "    x, y, id = int(x * width), int(y * height), int(id)\n",
        "    if y >= half:\n",
        "      color = (0, 0, 255)\n",
        "    else:\n",
        "      color = (0, 255, 0)\n",
        "      count.add(id)\n",
        "    image = cv2.circle(image, (x, y), 3, color, -1)\n",
        "  \n",
        "  image = cv2.putText(image, f'Count: {len(count)}', (0, 18), fontFace=2, \n",
        "                   fontScale=0.5, color=(0, 255, 0), thickness=1)\n",
        "  \n",
        "  image = cv2.cvtColor(image, cv2.COLOR_BGR2RGB)\n",
        "\n",
        "  frames.append(image.copy())\n",
        "\n",
        "\n",
        "imageio.mimsave(save_gif, frames, fps=15)"
      ],
      "metadata": {
        "id": "PEYQ8qAkkTSq"
      },
      "execution_count": null,
      "outputs": []
    },
    {
      "cell_type": "code",
      "source": [
        "# Check resuts\n",
        "from IPython.display import Image\n",
        "Image(save_gif)"
      ],
      "metadata": {
        "id": "5KaOV2oQsyDI"
      },
      "execution_count": 71,
      "outputs": []
    }
  ]
}